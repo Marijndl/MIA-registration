{
 "cells": [
  {
   "cell_type": "markdown",
   "metadata": {},
   "source": [
    "# Active shape models\n",
    "\n",
    "This (optional) notebook combines theory with exercises to support the understanding of active shape models for object detection in medical image segmentation. Implement all functions in the `code` folder of your cloned repository, and test it in this notebook after implementation. Use available markdown sections to fill in your answers.\n",
    "\n",
    "**Contents:** <br>\n",
    "\n",
    "1. [Active shape models](#active_sm)<br>\n",
    "\n",
    "   - [Using ASMs for segmentation tasks](#active_sm_usage)\n",
    "\n",
    "**References:**<br>\n",
    "\n",
    "[1] Active shape models: [Cootes et al. Active Shape Models - Their Training and Application, Computer Vision and Image Understanding (1994)](http://dns2.asia.edu.tw/~ysho/YSHO-English/2000%20Engineering/PDF/Com%20Vis%20Ima%20Und61,%2038.pdf)\n",
    "\n",
    "[2] Chapter 11.5 of the [Guide to Medical Image Analysis by Tonnies, Klaus D](https://www.springer.com/gp/book/9781447160960)\n"
   ]
  },
  {
   "cell_type": "code",
   "execution_count": null,
   "metadata": {},
   "outputs": [],
   "source": [
    "%load_ext autoreload\n",
    "%autoreload 2"
   ]
  },
  {
   "cell_type": "markdown",
   "metadata": {},
   "source": [
    "<div id=\"active_sm\"></div>\n",
    "\n",
    "<div style=\"float:right;margin:-5px 5px\"><img src=\"../reader/assets/read_ico.png\" width=\"42\" height=\"42\"></div> \n",
    "\n",
    "## 1. Active shape models\n",
    "\n",
    "In object detection, model-based vision allows for the recognition and location of known objects or patterns despite the presence of occlusive phenomena (e.g. noise). But what if the appearance of the object varies? This is where rigid models become inefficient. Active shape models (ASMs) are statistical models of the shape of objects which iteratively deform to fit to an example of the object in a new image. Iterative deformation is achieved by active **segmentation** preceded by registration of a model to the new image. For a detailed explanation of ASM priciples, **please read carefully the following article**: [Cootes et al. Active Shape Models - Their Training and Application, Computer Vision and Image Understanding (1994)](http://dns2.asia.edu.tw/~ysho/YSHO-English/2000%20Engineering/PDF/Com%20Vis%20Ima%20Und61,%2038.pdf)\n",
    "\n",
    "In principle, an ASM aims to find shapes and acceptable variations of an object in a new image based on the model created from a sufficiently large training dataset. Variations in an active shape from a training phase are used to predict variation of unknown objects.\n",
    "\n",
    "An ASM describes a $K$-dimensional shape that has $L$ boundary points in a *shape feature vector* $\\mathbf{s} = (s_{0}, s_{1}, ..., s_{N}) = (x_{1,1} x_{1,2} ... x_{1,L}, x_{2,1} x_{2,2} ... x_{2,L}, ..., x_{K,1}, ... x_{K,L})$, where $x_{k,l}$ denotes the *k*th component of the *l*th boundary point $\\mathbf{x}_{i}$.\n",
    "\n",
    "With increasing $K$ dimension of the shape feature vector, more samples in the feature space are needed to compute a reliable estimate.  \n",
    "\n",
    "An ASM is defined by its probability density function (PDF) that reflects deformation within an object class. Computation of a probabilistic shape model from training samples is typically performed as follows:\n",
    "\n",
    "1. Identify several points on the object boundary to select landmarks (Note: semantic equivalence of selected landmarks across all training data needs to be assured)\n",
    "\n",
    "    - primary landmarks are anatomical landmarks equivalent to anatomical locations (e.g. the brain's Sylvian fissure)\n",
    "    - secondary landmarks are other image features, e.g. ridge intersections on the brain surface\n",
    "    - tertiary landmarks are used to represent curvature of the shape boundary\n",
    "    \n",
    "2. Align landmarks within a common coordinate system \n",
    "3. Decorrelate the estimated covariance matrix to obtain uncorrelated features with eigenvectors of that covariance matrix\n",
    "4. Clean up the feature space by only keeping significant variations that lie below some percentage of the total variance in the training data.\n",
    "\n",
    "As you may correctly anticipate, there are several bottlenecks present in the process of estimating the probabilistic shape model. Semantic equivalence is often difficult, let alone impossible to determine. Moreover, human interaction is required for landmark detection, which is rarely feasible in medical practice. Hence, landmark detection is conducted based on local attributes (e.g. curvatures), geometric shape features or registration of atlases. Moreover, landmark alignment based on invalid assumptions about the object's coordinate system may cause wrong shape variation. Last but not least, the limited amount of training samples typically present in practice leads to a decrease in the significance of the estimated probability distribution.\n",
    "\n",
    "Further information about active shape models as well as active appearance models can be found in [chapter 11.5 of the Guide to Medical Image Analysis by Tonnies, Klaus D](https://www.springer.com/gp/book/9781447160960).\n",
    "\n",
    "<div id=\"active_sm_usage\"></div>\n",
    "\n",
    "### Using ASMs for segmentation tasks\n",
    "\n",
    "As mentioned above, most of the issues related to estimating the probability density function of an ASM represent classification problems. Hence, the ASM approach is suitable for segmentation tasks. The main idea is to apply an ASM such that its shape is aligned and deformed to fit a potential shape instance in an image. ASM-assisted segmentation is done in the following steps:\n",
    "\n",
    "1. Register an active shape model with new image data that contain a shape which is not accounted for in the shape model in terms of position, orientation and scale\n",
    "\n",
    "<center width=\"100%\"><img src=\"../reader/assets/asm_registration.png\" width=\"600\"></center>\n",
    "\n",
    "<font size=\"1\">Figure from [Toennies K.D. Guide to Medical Image Analysis](https://www.springer.com/gp/book/9781447160960/)</font>\n",
    "\n",
    "<br>\n",
    "\n",
    "2. Apply local deformations of the shape model to fit the object in the target image, thereby creating a new estimate for computing the next pose estimate (positions of the model shape with deformations)\n",
    "\n",
    "<center width=\"100%\"><img src=\"../reader/assets/asm_deformation.png\" width=\"300\"></center>\n",
    "\n",
    "<font size=\"1\">Figure from [Toennies K.D. Guide to Medical Image Analysis](https://www.springer.com/gp/book/9781447160960/)</font>\n",
    "\n",
    "<br>\n",
    "\n",
    "3. Compute as many pose estimates as are required for convergence. "
   ]
  },
  {
   "cell_type": "markdown",
   "metadata": {},
   "source": [
    "<div style=\"float:right;margin:-5px 5px\"><img src=\"../reader/assets/todo_ico.png\" width=\"42\" height=\"42\"></div> \n",
    "\n",
    "### *Exercise 1.1:*\n",
    "In the `plot_hand_shapes()` function in `active_shape_models.py`, we start with loading `coordinates.txt` which contains coordinates of 40 hand shapes, each represented by 56 points. Dimensions 1 to 56 store the $x$-coordinate and dimensions 57 to 112 store the $y$-coordinate. Let's plot a few shapes to examine the variation. What do you think the mean shape will look like? Compute it to verify your guess. Implement this functionality in the `plot_hand_shapes()` function."
   ]
  },
  {
   "cell_type": "code",
   "execution_count": null,
   "metadata": {},
   "outputs": [],
   "source": [
    "%matplotlib inline\n",
    "import sys\n",
    "sys.path.append(\"../code\")\n",
    "from active_shape_models import plot_hand_shapes\n",
    "plot_hand_shapes()"
   ]
  },
  {
   "cell_type": "markdown",
   "metadata": {},
   "source": [
    "<div style=\"float:right;margin:-5px 5px\"><img src=\"../reader/assets/todo_ico.png\" width=\"42\" height=\"42\"></div> \n",
    "\n",
    "### *Exercise 1.2:*\n",
    "Apply `mypca` (from the previous exercises on PCA) to the coordinates data. How many dimensions are needed to describe 98% of the variance? Store only the vectors corresponding to these dimensions in `v`. Implement your code in the `pca_hands()` function of the `active_shape_models.py` module."
   ]
  },
  {
   "cell_type": "code",
   "execution_count": null,
   "metadata": {},
   "outputs": [],
   "source": [
    "%matplotlib inline\n",
    "import sys\n",
    "import warnings\n",
    "warnings.filterwarnings('ignore')\n",
    "sys.path.append(\"../code\")\n",
    "from active_shape_models import pca_hands\n",
    "num_dims, v_new, _, _ = pca_hands()\n",
    "print('Number of dimensions explaining 98% variance: {}'.format(num_dims))\n",
    "print('Eigenvectors for these dimensions (shape): {}'.format(v_new.shape))"
   ]
  },
  {
   "cell_type": "markdown",
   "metadata": {},
   "source": [
    "<div style=\"float:right;margin:-5px 5px\"><img src=\"../reader/assets/todo_ico.png\" width=\"42\" height=\"42\"></div> \n",
    "\n",
    "### *Exercise 1.3:*\n",
    "Create a loop in the `test_remaining_variance()` function of the `active_shape_models.py` module to go through the dimensions left in `v` and compute a variation that this dimension produces. For the weight, you might want to use the corresponding eigenvalue multiplied by a small scaling factor, like $5$. What is the main variation that you notice? \n",
    "\n",
    "Note: If you see the warning **ComplexWarning: Casting complex values to real discards the imaginary part**, just ignore it."
   ]
  },
  {
   "cell_type": "code",
   "execution_count": null,
   "metadata": {},
   "outputs": [],
   "source": [
    "%matplotlib inline\n",
    "import sys\n",
    "sys.path.append(\"../code\")\n",
    "from active_shape_models import test_remaining_variance\n",
    "test_remaining_variance()"
   ]
  },
  {
   "cell_type": "markdown",
   "metadata": {},
   "source": [
    "<div style=\"float:right;margin:-5px 5px\"><img src=\"../reader/assets/todo_ico.png\" width=\"42\" height=\"42\"></div> \n",
    "\n",
    "### *Exercise 1.4:*\n",
    "Let's load the image `test001.jpg` from the `dataset_hands` folder, and view it in grayscale. If you were to plot the hand template on top of this image, what do you expect to happen? Verify your hypothesis. Implement your code in the `plot_hand_grayscale()` function of the `active_shape_models.py` module. "
   ]
  },
  {
   "cell_type": "code",
   "execution_count": null,
   "metadata": {},
   "outputs": [],
   "source": [
    "%matplotlib inline\n",
    "import sys\n",
    "sys.path.append(\"../code\")\n",
    "from active_shape_models import plot_hand_grayscale\n",
    "plot_hand_grayscale()"
   ]
  },
  {
   "cell_type": "markdown",
   "metadata": {},
   "source": [
    "<div style=\"float:right;margin:-5px 5px\"><img src=\"../reader/assets/todo_ico.png\" width=\"42\" height=\"42\"></div> \n",
    "\n",
    "### *Exercise 1.5:*\n",
    "Let's transform your mean hand shape into a 2x56 dataset with `initialpos = [[meanhand[0,:56]], [meanhand[0,56:112]]]`. Think about the registration exercises you did before. Define a transformation matrix (you can try out yourself what numbers are needed) and use it to plot the hand template close to the hand in the image. Implement your code in the `test_transformed_hand()` function of the `active_shape_models.py` module."
   ]
  },
  {
   "cell_type": "code",
   "execution_count": null,
   "metadata": {},
   "outputs": [],
   "source": [
    "%matplotlib inline\n",
    "import sys\n",
    "sys.path.append(\"../code\")\n",
    "from active_shape_models import test_transformed_hand\n",
    "test_transformed_hand()"
   ]
  },
  {
   "cell_type": "markdown",
   "metadata": {},
   "source": [
    "<div style=\"float:right;margin:-5px 5px\"><img src=\"../reader/assets/question_ico.png\" width=\"42\" height=\"42\"></div> \n",
    "\n",
    "### *Question 1.1:*\n",
    "Consider an active shape model for segmentation of the ventricles in the sample brain images. Describe which steps you would need to do for the data that is available to us, to train a shape model of the ventricles."
   ]
  },
  {
   "cell_type": "markdown",
   "metadata": {},
   "source": [
    "<font style=\"color:red\">Type your answer here</font>"
   ]
  },
  {
   "cell_type": "markdown",
   "metadata": {},
   "source": [
    "<div style=\"float:right;margin:-5px 5px\"><img src=\"../reader/assets/todo_ico.png\" width=\"42\" height=\"42\"></div> \n",
    "\n",
    "### *Exercise 1.6:*\n",
    "You can inspect the mask of the ventricles in the sample brain images using the code below."
   ]
  },
  {
   "cell_type": "code",
   "execution_count": null,
   "metadata": {},
   "outputs": [],
   "source": [
    "%matplotlib inline\n",
    "import sys\n",
    "import matplotlib.pyplot as plt\n",
    "sys.path.append(\"../code\")\n",
    "GT = plt.imread('../data/dataset_brains/1_1_gt.tif')\n",
    "gtMask = GT == 4\n",
    "fig = plt.figure(figsize=(10,10))\n",
    "ax1  = fig.add_subplot(121)\n",
    "ax1.imshow(GT)\n",
    "ax2  = fig.add_subplot(122)\n",
    "ax2.imshow(gtMask)"
   ]
  },
  {
   "cell_type": "markdown",
   "metadata": {},
   "source": [
    "<div style=\"float:right;margin:-5px 5px\"><img src=\"../reader/assets/question_ico.png\" width=\"42\" height=\"42\"></div> \n",
    "\n",
    "### *Question 1.2:*\n",
    "Look at the ventricle masks for different subjects and different slices. Based on the shapes that you see, what difficulties do you think you might face, if you wanted to train an active shape model? How could you modify the dataset to overcome these difficulties?"
   ]
  },
  {
   "cell_type": "markdown",
   "metadata": {},
   "source": [
    "<font style=\"color:red\">Type your answer here</font>"
   ]
  }
 ],
 "metadata": {
  "hide_input": false,
  "interpreter": {
   "hash": "fb698bdeab99cfbf9e31cab566d99a06e057f2dec3dcc8097ebabb329e860e16"
  },
  "kernelspec": {
   "display_name": "Python 3",
   "language": "python",
   "name": "python3"
  },
  "language_info": {
   "codemirror_mode": {
    "name": "ipython",
    "version": 3
   },
   "file_extension": ".py",
   "mimetype": "text/x-python",
   "name": "python",
   "nbconvert_exporter": "python",
   "pygments_lexer": "ipython3",
   "version": "3.6.12"
  }
 },
 "nbformat": 4,
 "nbformat_minor": 4
}
